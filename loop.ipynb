{
  "nbformat": 4,
  "nbformat_minor": 0,
  "metadata": {
    "colab": {
      "name": "loop.ipynb",
      "provenance": [],
      "include_colab_link": true
    },
    "kernelspec": {
      "name": "python3",
      "display_name": "Python 3"
    }
  },
  "cells": [
    {
      "cell_type": "markdown",
      "metadata": {
        "id": "view-in-github",
        "colab_type": "text"
      },
      "source": [
        "<a href=\"https://colab.research.google.com/github/maro000/domyselfpython/blob/master/loop.ipynb\" target=\"_parent\"><img src=\"https://colab.research.google.com/assets/colab-badge.svg\" alt=\"Open In Colab\"/></a>"
      ]
    },
    {
      "cell_type": "code",
      "metadata": {
        "id": "riCeHQuWOlEn",
        "colab_type": "code",
        "colab": {
          "base_uri": "https://localhost:8080/",
          "height": 68
        },
        "outputId": "7caa9b54-1d82-4800-a716-1b774623729e"
      },
      "source": [
        "name = 'Ted'\n",
        "for i in name:\n",
        "  print(i)\n"
      ],
      "execution_count": 2,
      "outputs": [
        {
          "output_type": "stream",
          "text": [
            "T\n",
            "e\n",
            "d\n"
          ],
          "name": "stdout"
        }
      ]
    },
    {
      "cell_type": "code",
      "metadata": {
        "id": "iU_dy4ZQPK0U",
        "colab_type": "code",
        "colab": {
          "base_uri": "https://localhost:8080/",
          "height": 34
        },
        "outputId": "34748dec-fb05-4622-c3a1-b2b5879c1dff"
      },
      "source": [
        "tv = ['GOT' , 'Narcos' , 'Vice']\n",
        "i = 0\n",
        "for show in tv:\n",
        "  new = tv[i]\n",
        "  new = new.upper()\n",
        "  tv[i] = new\n",
        "  i += 1\n",
        "\n",
        "print(tv)"
      ],
      "execution_count": 5,
      "outputs": [
        {
          "output_type": "stream",
          "text": [
            "['GOT', 'NARCOS', 'VICE']\n"
          ],
          "name": "stdout"
        }
      ]
    },
    {
      "cell_type": "code",
      "metadata": {
        "id": "BmqoKO9_QGQm",
        "colab_type": "code",
        "colab": {
          "base_uri": "https://localhost:8080/",
          "height": 34
        },
        "outputId": "3543ed93-fea3-4110-ac26-df0520e24573"
      },
      "source": [
        "tv = ['GOT' , 'Narcos' , 'Vice']\n",
        "for i , new in enumerate(tv):\n",
        "  new = tv[i]\n",
        "  new = new.upper()\n",
        "  tv[i] = new\n",
        "\n",
        "print(tv)"
      ],
      "execution_count": 6,
      "outputs": [
        {
          "output_type": "stream",
          "text": [
            "['GOT', 'NARCOS', 'VICE']\n"
          ],
          "name": "stdout"
        }
      ]
    },
    {
      "cell_type": "code",
      "metadata": {
        "id": "oHh31g4kQY4X",
        "colab_type": "code",
        "colab": {
          "base_uri": "https://localhost:8080/",
          "height": 34
        },
        "outputId": "46eab67e-950a-4d20-8a82-c679ddd5ec84"
      },
      "source": [
        "tv = ['GOT' , 'Narcos' , 'Vice']\n",
        "coms = ['Arrested Development', 'friends' , 'Always Sunny']\n",
        "all_shows = []\n",
        "\n",
        "for show in tv:\n",
        "  show = show.upper()\n",
        "  all_shows.append(show)\n",
        "\n",
        "for show in coms:\n",
        "  show = show.upper()\n",
        "  all_shows.append(show)\n",
        "\n",
        "print(all_shows)"
      ],
      "execution_count": 8,
      "outputs": [
        {
          "output_type": "stream",
          "text": [
            "['GOT', 'NARCOS', 'VICE', 'ARRESTED DEVELOPMENT', 'FRIENDS', 'ALWAYS SUNNY']\n"
          ],
          "name": "stdout"
        }
      ]
    },
    {
      "cell_type": "code",
      "metadata": {
        "id": "jwXsHDGdQY8R",
        "colab_type": "code",
        "colab": {
          "base_uri": "https://localhost:8080/",
          "height": 187
        },
        "outputId": "c1cf3fda-8ed2-4209-b8c7-21b68ea45870"
      },
      "source": [
        "for i in range(1,11):\n",
        "  print(i)"
      ],
      "execution_count": 10,
      "outputs": [
        {
          "output_type": "stream",
          "text": [
            "1\n",
            "2\n",
            "3\n",
            "4\n",
            "5\n",
            "6\n",
            "7\n",
            "8\n",
            "9\n",
            "10\n"
          ],
          "name": "stdout"
        }
      ]
    },
    {
      "cell_type": "code",
      "metadata": {
        "id": "HuuH4yWNRzit",
        "colab_type": "code",
        "colab": {
          "base_uri": "https://localhost:8080/",
          "height": 204
        },
        "outputId": "2da1f317-5ea9-49a6-e009-4a5281bfc318"
      },
      "source": [
        "x = 10\n",
        "while x > 0:\n",
        "  print('{}'.format(x))\n",
        "  x -=1\n",
        "print('Happy New Year')"
      ],
      "execution_count": 11,
      "outputs": [
        {
          "output_type": "stream",
          "text": [
            "10\n",
            "9\n",
            "8\n",
            "7\n",
            "6\n",
            "5\n",
            "4\n",
            "3\n",
            "2\n",
            "1\n",
            "Happy New Year\n"
          ],
          "name": "stdout"
        }
      ]
    },
    {
      "cell_type": "code",
      "metadata": {
        "id": "8upJ82WISXXe",
        "colab_type": "code",
        "colab": {
          "base_uri": "https://localhost:8080/",
          "height": 153
        },
        "outputId": "a012398c-8169-4d0c-c85a-eda0347c94ba"
      },
      "source": [
        "qa =['aaaa',\n",
        "     'bbbb',\n",
        "     'cccc']\n",
        "\n",
        "n = 0\n",
        "while True:\n",
        "  print('Type  q to quit')\n",
        "  a = input (qa[n])\n",
        "  if a == 'q':\n",
        "    break\n",
        "  n = (n + 1) % 3 "
      ],
      "execution_count": 1,
      "outputs": [
        {
          "output_type": "stream",
          "text": [
            "Type  q to quit\n",
            "aaaaa\n",
            "Type  q to quit\n",
            "bbbb2\n",
            "Type  q to quit\n",
            "cccc8\n",
            "Type  q to quit\n",
            "aaaaq\n"
          ],
          "name": "stdout"
        }
      ]
    },
    {
      "cell_type": "code",
      "metadata": {
        "id": "3sA_FE8uTMsv",
        "colab_type": "code",
        "colab": {
          "base_uri": "https://localhost:8080/",
          "height": 85
        },
        "outputId": "c284b619-da45-43e8-fec4-0c70fb4d4210"
      },
      "source": [
        "for i in range(1,6):\n",
        "  if i == 3:\n",
        "    continue\n",
        "  print(i)"
      ],
      "execution_count": 2,
      "outputs": [
        {
          "output_type": "stream",
          "text": [
            "1\n",
            "2\n",
            "4\n",
            "5\n"
          ],
          "name": "stdout"
        }
      ]
    },
    {
      "cell_type": "code",
      "metadata": {
        "id": "XO7kcTIsTW-V",
        "colab_type": "code",
        "colab": {
          "base_uri": "https://localhost:8080/",
          "height": 85
        },
        "outputId": "16cc7318-fb21-4c9a-b1c3-ff515bfe4ad2"
      },
      "source": [
        "i = 1 \n",
        "while i <= 5:\n",
        "  if i ==3:\n",
        "    i += 1\n",
        "    continue\n",
        "  print(i)\n",
        "  i += 1"
      ],
      "execution_count": 5,
      "outputs": [
        {
          "output_type": "stream",
          "text": [
            "1\n",
            "2\n",
            "4\n",
            "5\n"
          ],
          "name": "stdout"
        }
      ]
    },
    {
      "cell_type": "code",
      "metadata": {
        "id": "3eE-XF5hT0Sc",
        "colab_type": "code",
        "colab": {
          "base_uri": "https://localhost:8080/",
          "height": 153
        },
        "outputId": "c50121c0-02fe-4422-d4e8-d2e829584a3c"
      },
      "source": [
        "for i in range(1,3):\n",
        "  print(i)\n",
        "  for letter in ['a', 'b', 'c']:\n",
        "    print(letter)"
      ],
      "execution_count": 9,
      "outputs": [
        {
          "output_type": "stream",
          "text": [
            "1\n",
            "a\n",
            "b\n",
            "c\n",
            "2\n",
            "a\n",
            "b\n",
            "c\n"
          ],
          "name": "stdout"
        }
      ]
    },
    {
      "cell_type": "code",
      "metadata": {
        "id": "-lRqUMStURLA",
        "colab_type": "code",
        "colab": {
          "base_uri": "https://localhost:8080/",
          "height": 34
        },
        "outputId": "3d4f2f2e-7b79-4412-886a-ab0682a4f1fb"
      },
      "source": [
        "list1 =[1 ,2 ,3 ,4]\n",
        "list2 =[5, 6, 7, 8]\n",
        "added = []\n",
        "\n",
        "for i in list1:\n",
        "  for j in list2:\n",
        "    added.append(i +j)\n",
        "\n",
        "print(added)"
      ],
      "execution_count": 10,
      "outputs": [
        {
          "output_type": "stream",
          "text": [
            "[6, 7, 8, 9, 7, 8, 9, 10, 8, 9, 10, 11, 9, 10, 11, 12]\n"
          ],
          "name": "stdout"
        }
      ]
    },
    {
      "cell_type": "code",
      "metadata": {
        "id": "YNhnyBW6U1oX",
        "colab_type": "code",
        "colab": {
          "base_uri": "https://localhost:8080/",
          "height": 238
        },
        "outputId": "83ddd85d-7006-4076-bdf9-036de7bfb5a9"
      },
      "source": [
        "while input('y or n ?') != 'n':\n",
        "  for i in range(1,6):\n",
        "    print(i)"
      ],
      "execution_count": 11,
      "outputs": [
        {
          "output_type": "stream",
          "text": [
            "y or n ?y\n",
            "1\n",
            "2\n",
            "3\n",
            "4\n",
            "5\n",
            "y or n ?y\n",
            "1\n",
            "2\n",
            "3\n",
            "4\n",
            "5\n",
            "y or n ?n\n"
          ],
          "name": "stdout"
        }
      ]
    },
    {
      "cell_type": "code",
      "metadata": {
        "id": "HGnx5k4xVIuz",
        "colab_type": "code",
        "colab": {
          "base_uri": "https://localhost:8080/",
          "height": 459
        },
        "outputId": "eb4d4059-ac67-478f-e2e0-2012db8d79d3"
      },
      "source": [
        "for i in range (25,51)\n",
        "  print"
      ],
      "execution_count": 13,
      "outputs": [
        {
          "output_type": "stream",
          "text": [
            "25\n",
            "26\n",
            "27\n",
            "28\n",
            "29\n",
            "30\n",
            "31\n",
            "32\n",
            "33\n",
            "34\n",
            "35\n",
            "36\n",
            "37\n",
            "38\n",
            "39\n",
            "40\n",
            "41\n",
            "42\n",
            "43\n",
            "44\n",
            "45\n",
            "46\n",
            "47\n",
            "48\n",
            "49\n",
            "50\n"
          ],
          "name": "stdout"
        }
      ]
    },
    {
      "cell_type": "code",
      "metadata": {
        "colab_type": "code",
        "outputId": "c35e26c2-7167-48a9-c660-e10a5a387717",
        "id": "9cBytQOmWhB2",
        "colab": {
          "base_uri": "https://localhost:8080/",
          "height": 130
        }
      },
      "source": [
        "list = [1, 3, 5, 7, 9]\n",
        "\n",
        "n = 0\n",
        "while True:\n",
        "  print('Type  q to quit')\n",
        "  a = input (list[n])\n",
        "  if a == 'q':\n",
        "    break\n",
        "    if a in list:\n",
        "      'True'\n",
        "    else 'False'"
      ],
      "execution_count": 0,
      "outputs": [
        {
          "output_type": "error",
          "ename": "SyntaxError",
          "evalue": "ignored",
          "traceback": [
            "\u001b[0;36m  File \u001b[0;32m\"<ipython-input-14-7245cbddbca2>\"\u001b[0;36m, line \u001b[0;32m11\u001b[0m\n\u001b[0;31m    else 'False'\u001b[0m\n\u001b[0m               ^\u001b[0m\n\u001b[0;31mSyntaxError\u001b[0m\u001b[0;31m:\u001b[0m invalid syntax\n"
          ]
        }
      ]
    },
    {
      "cell_type": "code",
      "metadata": {
        "id": "ndsOkWzWWhuX",
        "colab_type": "code",
        "colab": {
          "base_uri": "https://localhost:8080/",
          "height": 85
        },
        "outputId": "e7b73935-1266-48fa-dfdd-69927721e224"
      },
      "source": [
        "shows = [\"The Walking Dead\", \"Entourage\", \"The Sopranos\", \"The Vampire Diaries\"]\n",
        "for index, show in enumerate(shows):\n",
        "    print(index,show)"
      ],
      "execution_count": 17,
      "outputs": [
        {
          "output_type": "stream",
          "text": [
            "0 The Walking Dead\n",
            "1 Entourage\n",
            "2 The Sopranos\n",
            "3 The Vampire Diaries\n"
          ],
          "name": "stdout"
        }
      ]
    },
    {
      "cell_type": "code",
      "metadata": {
        "id": "Zkl6L6DeWuAt",
        "colab_type": "code",
        "colab": {
          "base_uri": "https://localhost:8080/",
          "height": 187
        },
        "outputId": "b0d42366-db94-4739-91bb-ee5fb1971614"
      },
      "source": [
        "numbers = [11, 32, 33, 15, 1]\n",
        "\n",
        "while True:\n",
        "    answer = input(\"Guess a number or type q to quit.\")\n",
        "    if answer == \"q\":\n",
        "        break\n",
        "    try:\n",
        "        answer = int(answer)\n",
        "    except ValueError:\n",
        "        print(\"please type a number or q to quit.\")\n",
        "    if answer in numbers:\n",
        "        print(\"You guessed correctly!\")\n",
        "    else:\n",
        "        print(\"You guessed incorrectly!\")"
      ],
      "execution_count": 18,
      "outputs": [
        {
          "output_type": "stream",
          "text": [
            "Guess a number or type q to quit.22\n",
            "You guessed incorrectly!\n",
            "Guess a number or type q to quit.33\n",
            "You guessed correctly!\n",
            "Guess a number or type q to quit.4\n",
            "You guessed incorrectly!\n",
            "Guess a number or type q to quit.aaa\n",
            "please type a number or q to quit.\n",
            "You guessed incorrectly!\n",
            "Guess a number or type q to quit.q\n"
          ],
          "name": "stdout"
        }
      ]
    },
    {
      "cell_type": "code",
      "metadata": {
        "id": "7qJcVvY_XOgW",
        "colab_type": "code",
        "colab": {
          "base_uri": "https://localhost:8080/",
          "height": 34
        },
        "outputId": "c5ec2c23-041a-471c-d682-2b935375f34f"
      },
      "source": [
        "list1 = [8 ,19 ,148 ,4]\n",
        "list2 = [9 , 1 ,33, 83]\n",
        "\n",
        "sum = []\n",
        "for i in list1:\n",
        "  for j in list2:\n",
        "    sum.append(i + j)\n",
        "print(sum)"
      ],
      "execution_count": 19,
      "outputs": [
        {
          "output_type": "stream",
          "text": [
            "[17, 9, 41, 91, 28, 20, 52, 102, 157, 149, 181, 231, 13, 5, 37, 87]\n"
          ],
          "name": "stdout"
        }
      ]
    }
  ]
}