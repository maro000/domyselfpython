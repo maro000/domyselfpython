{
  "nbformat": 4,
  "nbformat_minor": 0,
  "metadata": {
    "colab": {
      "name": "File.ipynb",
      "provenance": [],
      "include_colab_link": true
    },
    "kernelspec": {
      "name": "python3",
      "display_name": "Python 3"
    }
  },
  "cells": [
    {
      "cell_type": "markdown",
      "metadata": {
        "id": "view-in-github",
        "colab_type": "text"
      },
      "source": [
        "<a href=\"https://colab.research.google.com/github/maro000/domyselfpython/blob/master/File.ipynb\" target=\"_parent\"><img src=\"https://colab.research.google.com/assets/colab-badge.svg\" alt=\"Open In Colab\"/></a>"
      ]
    },
    {
      "cell_type": "code",
      "metadata": {
        "id": "jd1WuaQPb0F8",
        "colab_type": "code",
        "colab": {
          "base_uri": "https://localhost:8080/",
          "height": 34
        },
        "outputId": "ddd46b7d-5c80-445d-c339-fcf1813d3d6c"
      },
      "source": [
        "import os\n",
        "os.path.join('Users' , 'bob' , 'st.txt')\n"
      ],
      "execution_count": 1,
      "outputs": [
        {
          "output_type": "execute_result",
          "data": {
            "text/plain": [
              "'Users/bob/st.txt'"
            ]
          },
          "metadata": {
            "tags": []
          },
          "execution_count": 1
        }
      ]
    },
    {
      "cell_type": "code",
      "metadata": {
        "id": "jQv6LFNFcIHG",
        "colab_type": "code",
        "colab": {}
      },
      "source": [
        "st = open('st.txt', 'w')\n",
        "st.write('Hi from Python')\n",
        "st.close()"
      ],
      "execution_count": 0,
      "outputs": []
    },
    {
      "cell_type": "code",
      "metadata": {
        "id": "vmu4RVEycuc4",
        "colab_type": "code",
        "colab": {}
      },
      "source": [
        "# 可能ななぎりこっちの文で書くようにする\n",
        "# with文内なら\n",
        "# 自動でファイルを閉じてくれる\n",
        "\n",
        "with open('st.txt', 'w') as f:\n",
        "  f.write('Hi from Python2')"
      ],
      "execution_count": 0,
      "outputs": []
    },
    {
      "cell_type": "code",
      "metadata": {
        "id": "dR1thKeNdUfp",
        "colab_type": "code",
        "colab": {
          "base_uri": "https://localhost:8080/",
          "height": 34
        },
        "outputId": "5406f68d-3e26-45c1-feaf-c98725d62bc6"
      },
      "source": [
        "with open('st.txt', 'r', encoding='UTF-8') as f:\n",
        "  print(f.read())"
      ],
      "execution_count": 7,
      "outputs": [
        {
          "output_type": "stream",
          "text": [
            "Hi from Python2\n"
          ],
          "name": "stdout"
        }
      ]
    },
    {
      "cell_type": "code",
      "metadata": {
        "id": "2y7ZmBvwdtCf",
        "colab_type": "code",
        "colab": {
          "base_uri": "https://localhost:8080/",
          "height": 34
        },
        "outputId": "7dc7a302-ba43-4a1d-efc2-31c84bf2ce9d"
      },
      "source": [
        "my_list = []\n",
        "\n",
        "with open('st.txt' , 'r') as f:\n",
        "  my_list.append(f.read())\n",
        "\n",
        "print(my_list)"
      ],
      "execution_count": 8,
      "outputs": [
        {
          "output_type": "stream",
          "text": [
            "['Hi from Python2']\n"
          ],
          "name": "stdout"
        }
      ]
    },
    {
      "cell_type": "code",
      "metadata": {
        "id": "-98Z7gujeIUL",
        "colab_type": "code",
        "colab": {
          "base_uri": "https://localhost:8080/",
          "height": 34
        },
        "outputId": "308cd5ff-20dc-4de6-9d0f-aee83d490ca4"
      },
      "source": [
        "import os\n",
        "print(os.getcwd())"
      ],
      "execution_count": 12,
      "outputs": [
        {
          "output_type": "stream",
          "text": [
            "/content\n"
          ],
          "name": "stdout"
        }
      ]
    },
    {
      "cell_type": "code",
      "metadata": {
        "id": "Xkeh5_rofKBX",
        "colab_type": "code",
        "colab": {}
      },
      "source": [
        "import csv\n",
        "\n",
        "with open('st.csv', 'w', newline='') as f:\n",
        "  w = csv.writer(f, delimiter = ',')\n",
        "  w.writerow({'one', 'two', 'three'})\n",
        "  w.writerow({'four', 'five', 'six'})\n"
      ],
      "execution_count": 0,
      "outputs": []
    },
    {
      "cell_type": "code",
      "metadata": {
        "id": "scs0GBfBgjOy",
        "colab_type": "code",
        "colab": {
          "base_uri": "https://localhost:8080/",
          "height": 51
        },
        "outputId": "408d7bf8-e4d8-4a46-90cc-ab77354f0eb6"
      },
      "source": [
        "import csv\n",
        "\n",
        "with open('st.csv', 'r') as f:\n",
        "  r = csv.reader(f , delimiter=',')\n",
        "  for row in r:\n",
        "    print(',' .join(row))"
      ],
      "execution_count": 19,
      "outputs": [
        {
          "output_type": "stream",
          "text": [
            "two,one,three\n",
            "six,five,four\n"
          ],
          "name": "stdout"
        }
      ]
    },
    {
      "cell_type": "code",
      "metadata": {
        "id": "xpnPcm8hlH8A",
        "colab_type": "code",
        "colab": {
          "base_uri": "https://localhost:8080/",
          "height": 68
        },
        "outputId": "b789d84e-b895-4f77-c34a-054bb699e3d4"
      },
      "source": [
        "with open('st.csv', 'r', encoding='UTF-8') as f:\n",
        "  print(f.read())"
      ],
      "execution_count": 22,
      "outputs": [
        {
          "output_type": "stream",
          "text": [
            "two,one,three\n",
            "six,five,four\n",
            "\n"
          ],
          "name": "stdout"
        }
      ]
    },
    {
      "cell_type": "code",
      "metadata": {
        "id": "o2I6m8JIl2OU",
        "colab_type": "code",
        "colab": {
          "base_uri": "https://localhost:8080/",
          "height": 34
        },
        "outputId": "cfbb9b7d-8534-4298-936a-08e58c2a510e"
      },
      "source": [
        "answer = input(\"What is your favorite color?\")\n",
        "with open(\"fav_color.txt\", \"w+\") as f:\n",
        "    f.write(answer)"
      ],
      "execution_count": 27,
      "outputs": [
        {
          "output_type": "stream",
          "text": [
            "What is your favorite color?white\n"
          ],
          "name": "stdout"
        }
      ]
    },
    {
      "cell_type": "code",
      "metadata": {
        "id": "wpVE_XYPmWrP",
        "colab_type": "code",
        "colab": {
          "base_uri": "https://localhost:8080/",
          "height": 34
        },
        "outputId": "296cbce3-5174-4070-fe55-65213b086ce1"
      },
      "source": [
        "with open('fav_color.txt', 'r', encoding='UTF-8') as f:\n",
        "  print(f.read())"
      ],
      "execution_count": 28,
      "outputs": [
        {
          "output_type": "stream",
          "text": [
            "white\n"
          ],
          "name": "stdout"
        }
      ]
    },
    {
      "cell_type": "code",
      "metadata": {
        "id": "RN6KoOsxm13y",
        "colab_type": "code",
        "colab": {}
      },
      "source": [
        "import csv\n",
        "\n",
        "movies = [[\"Top Gun\", \"Risky Business\", \"Minority Report\"], [\"Titanic\", \"The Revenant\", \"Inception\"], [\"Training Day\", \"Man on Fire\", \"Flight\"]]\n",
        "with open(\"movies.csv\", \"w\") as csvfile:\n",
        "    spamwriter = csv.writer(csvfile, delimiter=\",\")\n",
        "    for movie_list in movies:\n",
        "        spamwriter.writerow(movie_list)"
      ],
      "execution_count": 0,
      "outputs": []
    },
    {
      "cell_type": "code",
      "metadata": {
        "id": "vbO-Ym2Xm5mV",
        "colab_type": "code",
        "colab": {
          "base_uri": "https://localhost:8080/",
          "height": 85
        },
        "outputId": "0955c52e-9af9-4228-92e2-1b4a74cd8310"
      },
      "source": [
        "with open('movies.csv', 'r', encoding='UTF-8') as f:\n",
        "  print(f.read())"
      ],
      "execution_count": 32,
      "outputs": [
        {
          "output_type": "stream",
          "text": [
            "Top Gun,Risky Business,Minority Report\n",
            "Titanic,The Revenant,Inception\n",
            "Training Day,Man on Fire,Flight\n",
            "\n"
          ],
          "name": "stdout"
        }
      ]
    }
  ]
}